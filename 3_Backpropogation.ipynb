{
  "nbformat": 4,
  "nbformat_minor": 0,
  "metadata": {
    "colab": {
      "provenance": [],
      "authorship_tag": "ABX9TyNStgJb+c1eLZtFMMUWdWOQ"
    },
    "kernelspec": {
      "name": "python3",
      "display_name": "Python 3"
    },
    "language_info": {
      "name": "python"
    }
  },
  "cells": [
    {
      "cell_type": "code",
      "execution_count": 1,
      "metadata": {
        "id": "cNWLk-M16n8b"
      },
      "outputs": [],
      "source": [
        "import numpy as np\n",
        "from sklearn.datasets import make_moons\n",
        "from sklearn.preprocessing import OneHotEncoder\n",
        "from sklearn.model_selection import train_test_split"
      ]
    },
    {
      "cell_type": "code",
      "source": [
        "class MLP:\n",
        "  def __init__(self, input_size, hidden_size, output_size,learning_rates=0.01):\n",
        "    self.input_size = input_size\n",
        "    self.hidden_size = hidden_size\n",
        "    self.output_size = output_size\n",
        "    self.learning_rates = learning_rates\n",
        "\n",
        "#Initialize weights and biases\n",
        "    self.w1 = np.random.randn(self.input_size, self.hidden_size)\n",
        "    self.b1 = np.zeros(1,self.hidden_size)\n",
        "    self.w2 = np.random.randn(self.hidden_size, self.output_size)\n",
        "    self.b2 = np.zeros(1,self.output_size)\n",
        "\n",
        "#Activation function (Sigmoid)\n",
        "  def sigmoid(self,x):\n",
        "    return 1/(1 + np.exp(-x))\n",
        "\n",
        "  def sigmoid_derivative(self,x):# Derivative of sigmoid\n",
        "    return x * (1 - x)\n",
        "\n",
        "# Forward pass\n",
        "  def forward(self,x):\n",
        "    self.z1 = np.dot(x, self.w1) + self.b1\n",
        "    self.a1 = self.sigmoid(self.z1) # Hidden layer activation\n",
        "    self.z2 = np.dot(self.a1, self.w2) + self.b2\n",
        "    self.a2 = self.sigmoid(self.z2) # Output layer activation\n",
        "    return self.a2\n",
        "\n",
        "  def backward(self,x,y):\n",
        "    m = y.shape[0]\n",
        "\n",
        "    error = self.a2 - y\n",
        "    d_output = error * self.sigmoid_derivative(self.a2)\n",
        "\n",
        "    error_hidden = np.dot(d_output, self.w2.T)\n",
        "    d_hidden = error_hidden * self.sigmoid_derivative(self.a1)\n",
        "\n",
        "    self.w2 -= self.learning_rate * np.dot(self.a1.T, d_output) / m\n",
        "    self.b2 -= self.learning_rate * np.sum(d_output, axis=0, keepdims=True) / m\n",
        "    self.w1 -= self.learning_rate * np.dot(x.T, d_hidden) / m\n",
        "    self.b1 -= self.learning_rate * np.sum(d_hidden, axis=0, keepdims=True) / m"
      ],
      "metadata": {
        "id": "GKezD86K7WNj"
      },
      "execution_count": 4,
      "outputs": []
    }
  ]
}